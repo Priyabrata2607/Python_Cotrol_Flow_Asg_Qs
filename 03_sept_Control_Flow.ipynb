{
 "cells": [
  {
   "cell_type": "markdown",
   "id": "60bd34df",
   "metadata": {},
   "source": [
    "# Basic If-Else Statements:"
   ]
  },
  {
   "cell_type": "markdown",
   "id": "e6f1d27f",
   "metadata": {},
   "source": [
    "1. Write a Python program to check if a given number is positive or negative."
   ]
  },
  {
   "cell_type": "code",
   "execution_count": 2,
   "id": "d6fa1336",
   "metadata": {},
   "outputs": [
    {
     "name": "stdout",
     "output_type": "stream",
     "text": [
      "Enter a number to check if it is positive or negative: -11\n",
      "-11 is negative\n"
     ]
    }
   ],
   "source": [
    "num=int(input('Enter a number to check if it is positive or negative: '))\n",
    "if num>=0:\n",
    "    print(num,'is positive')\n",
    "else:\n",
    "    print(num,'is negative')"
   ]
  },
  {
   "cell_type": "markdown",
   "id": "496dac70",
   "metadata": {},
   "source": [
    "2. Create a program that determines if a person is eligible to vote based on their age."
   ]
  },
  {
   "cell_type": "code",
   "execution_count": 5,
   "id": "f24b5984",
   "metadata": {},
   "outputs": [
    {
     "name": "stdout",
     "output_type": "stream",
     "text": [
      "Enter your age to check the eligibility for voting: 18\n",
      "You are eligible for voting\n"
     ]
    }
   ],
   "source": [
    "age=int(input('Enter your age to check the eligibility for voting: '))\n",
    "if age>=18:\n",
    "    print('You are eligible for voting')\n",
    "else:\n",
    "    print('You are not eligible for voting')"
   ]
  },
  {
   "cell_type": "markdown",
   "id": "08e0fba7",
   "metadata": {},
   "source": [
    "3. Develop a program to find the maximum of two numbers using if-else statements."
   ]
  },
  {
   "cell_type": "code",
   "execution_count": 6,
   "id": "f392c223",
   "metadata": {},
   "outputs": [
    {
     "name": "stdout",
     "output_type": "stream",
     "text": [
      "Enter the numbers: 12 16\n",
      "16 is greater\n"
     ]
    }
   ],
   "source": [
    "num1, num2 = input('Enter the numbers: ').split()\n",
    "if int(num1) > int(num2):\n",
    "    print(num1, 'is greater')\n",
    "else:\n",
    "    print(num2, 'is greater')"
   ]
  },
  {
   "cell_type": "markdown",
   "id": "fdce42da",
   "metadata": {},
   "source": [
    "4. Write a Python script to classify a given year as a leap year or not."
   ]
  },
  {
   "cell_type": "code",
   "execution_count": 9,
   "id": "af34dea3",
   "metadata": {},
   "outputs": [
    {
     "name": "stdout",
     "output_type": "stream",
     "text": [
      "enter a year to check if it is a leap year or not: 1900\n",
      "1900 is not a leap year\n"
     ]
    }
   ],
   "source": [
    "year=int(input('enter a year to check if it is a leap year or not: '))\n",
    "if ((year%4==0) and (year%100!=0)) or ((year%400==0) and (year%100==0)):\n",
    "    print(year, 'is a leap year')\n",
    "else:\n",
    "    print(year, 'is not a leap year')"
   ]
  },
  {
   "cell_type": "markdown",
   "id": "33cb790f",
   "metadata": {},
   "source": [
    "5. Create a program that checks whether a character is a vowel or a consonant."
   ]
  },
  {
   "cell_type": "code",
   "execution_count": 14,
   "id": "9a1291b3",
   "metadata": {},
   "outputs": [
    {
     "name": "stdout",
     "output_type": "stream",
     "text": [
      "Enter a character: y\n",
      "y is a consonant\n"
     ]
    }
   ],
   "source": [
    "char=str.lower(input('Enter a character: '))\n",
    "if char=='a' or char=='e' or char=='i' or char=='o' or char=='u':\n",
    "    print(char,'is a vowel')\n",
    "else:\n",
    "    print(char,'is a consonant')"
   ]
  },
  {
   "cell_type": "markdown",
   "id": "fc48393a",
   "metadata": {},
   "source": [
    "6. Implement a program to determine whether a given number is even or odd."
   ]
  },
  {
   "cell_type": "code",
   "execution_count": 16,
   "id": "8e7ade89",
   "metadata": {},
   "outputs": [
    {
     "name": "stdout",
     "output_type": "stream",
     "text": [
      "Enter a number to check even or odd: 12567\n",
      "12567 is odd\n"
     ]
    }
   ],
   "source": [
    "num=int(input('Enter a number to check even or odd: '))\n",
    "if num%2==0:\n",
    "    print(num,'is even')\n",
    "else:\n",
    "    print(num,'is odd')"
   ]
  },
  {
   "cell_type": "markdown",
   "id": "ab532c5d",
   "metadata": {},
   "source": [
    "7. Write a Python function to calculate the absolute value of a number without using the `abs()` function."
   ]
  },
  {
   "cell_type": "code",
   "execution_count": 17,
   "id": "2cf0208c",
   "metadata": {},
   "outputs": [
    {
     "name": "stdout",
     "output_type": "stream",
     "text": [
      "Enter a number: -11\n",
      "the absolute value of -11 is 11\n"
     ]
    }
   ],
   "source": [
    "num=int(input('Enter a number: '))\n",
    "if num>=0:\n",
    "    print(f'the absolute value of {num} is {num}')\n",
    "else:\n",
    "    print(f'the absolute value of {num} is {-num}')"
   ]
  },
  {
   "cell_type": "markdown",
   "id": "e055cb4e",
   "metadata": {},
   "source": [
    "8. Develop a program that determines the largest of three given numbers using if-else statements."
   ]
  },
  {
   "cell_type": "code",
   "execution_count": 18,
   "id": "e97c5f64",
   "metadata": {},
   "outputs": [
    {
     "name": "stdout",
     "output_type": "stream",
     "text": [
      "Enter the first number: 12\n",
      "Enter the second number: 100\n",
      "Enter the third number: 250\n",
      "250 is greatest among all\n"
     ]
    }
   ],
   "source": [
    "num1=int(input('Enter the first number: '))\n",
    "num2=int(input('Enter the second number: '))\n",
    "num3=int(input('Enter the third number: '))\n",
    "if num1>num2 and num1>num3:\n",
    "    print(num1,'is greatest among all')\n",
    "elif num2>num1 and num2>num3:\n",
    "    print(num2,'is greatest among all')\n",
    "else:\n",
    "    print(num3, 'is greatest among all')"
   ]
  },
  {
   "cell_type": "markdown",
   "id": "977a07e5",
   "metadata": {},
   "source": [
    "9. Create a program that checks if a given string is a palindrome."
   ]
  },
  {
   "cell_type": "code",
   "execution_count": 22,
   "id": "85514e43",
   "metadata": {},
   "outputs": [
    {
     "name": "stdout",
     "output_type": "stream",
     "text": [
      "Enter a number to check palindrome: 1234321\n",
      "1234321 is palindrome\n"
     ]
    }
   ],
   "source": [
    "num=input('Enter a number to check palindrome: ')\n",
    "if num==num[::-1]:\n",
    "    print(int(num),'is palindrome')\n",
    "else:\n",
    "    print(int(num),'is not palindrome')"
   ]
  },
  {
   "cell_type": "markdown",
   "id": "1db27c27",
   "metadata": {},
   "source": [
    "10. Write a Python program to calculate the grade based on a student's score."
   ]
  },
  {
   "cell_type": "code",
   "execution_count": 23,
   "id": "5ed43bc0",
   "metadata": {},
   "outputs": [
    {
     "name": "stdout",
     "output_type": "stream",
     "text": [
      "Enter the score to check the grade: 78\n",
      "The grade is A\n"
     ]
    }
   ],
   "source": [
    "score=int(input('Enter the score to check the grade: '))\n",
    "if score>=90:\n",
    "    print('The grade is O')\n",
    "elif 80<=score<90:\n",
    "    print('The grade is E')\n",
    "elif 70<=score<80:\n",
    "    print('The grade is A')\n",
    "elif 60<=score<70:\n",
    "    print('The grade is B')\n",
    "elif 50<=score<60:\n",
    "    print('The grade is C')\n",
    "elif 35<=score<50:\n",
    "    print('The grade is D')\n",
    "else:\n",
    "    print('The grade is F')"
   ]
  },
  {
   "cell_type": "markdown",
   "id": "5da392d5",
   "metadata": {},
   "source": [
    "# Nested If-Else Statements:"
   ]
  },
  {
   "cell_type": "markdown",
   "id": "63f26b0d",
   "metadata": {},
   "source": [
    "11. Write a program to find the largest among three numbers using nested if-else statements."
   ]
  },
  {
   "cell_type": "code",
   "execution_count": 5,
   "id": "8f10508a",
   "metadata": {},
   "outputs": [
    {
     "name": "stdout",
     "output_type": "stream",
     "text": [
      "Enter the first number: 1\n",
      "Enter the second number: 5\n",
      "Enter the third number: 3\n",
      "5 is gretest among all\n"
     ]
    }
   ],
   "source": [
    "num1=int(input('Enter the first number: '))\n",
    "num2=int(input('Enter the second number: '))\n",
    "num3=int(input('Enter the third number: '))\n",
    "if num1>num2:\n",
    "    #print(num1,'is greatest among all')\n",
    "    if num1>num3:\n",
    "        print(num1,'is greatest among all')\n",
    "    else:\n",
    "        print(num3,'is greatest among all')\n",
    "else:\n",
    "    if num2>num3:\n",
    "        print(num2,'is gretest among all')\n",
    "    else:\n",
    "        print(num3,'is greatest among all')"
   ]
  },
  {
   "cell_type": "markdown",
   "id": "0aa08391",
   "metadata": {},
   "source": [
    "12. Implement a program to determine if a triangle is equilateral, isosceles, or scalene."
   ]
  },
  {
   "cell_type": "code",
   "execution_count": 6,
   "id": "13ce58b6",
   "metadata": {},
   "outputs": [
    {
     "name": "stdout",
     "output_type": "stream",
     "text": [
      "Enter the first side of the triangle: 10\n",
      "Enter the second side of the triangle: 10\n",
      "Enter the third side of the triangle: 10\n",
      "This triangle is Equilateral\n"
     ]
    }
   ],
   "source": [
    "tri1=int(input('Enter the first side of the triangle: '))\n",
    "tri2=int(input('Enter the second side of the triangle: '))\n",
    "tri3=int(input('Enter the third side of the triangle: '))\n",
    "if tri1==tri2 or tri1==tri3 or tri2==tri3:\n",
    "    if tri1==tri2==tri3:\n",
    "        print('This triangle is Equilateral')\n",
    "    else:\n",
    "        print('This triangle is Isosceles')\n",
    "\n",
    "else:\n",
    "    print('This triangle is Scalene')"
   ]
  },
  {
   "cell_type": "markdown",
   "id": "530ff7ce",
   "metadata": {},
   "source": [
    "13. Develop a program that checks if a year is a leap year and also if it is a century year."
   ]
  },
  {
   "cell_type": "code",
   "execution_count": 7,
   "id": "ae124f43",
   "metadata": {},
   "outputs": [
    {
     "name": "stdout",
     "output_type": "stream",
     "text": [
      "Enter a year: 1900\n",
      "1900  is a century year\n"
     ]
    }
   ],
   "source": [
    "year=int(input('Enter a year: '))\n",
    "if year%4==0:\n",
    "    if year%100==0:\n",
    "        if year%400==0:\n",
    "            print(year,' is a leap year')\n",
    "        else:\n",
    "            print(year,' is a century year')\n",
    "    else:\n",
    "        print(year,' is a leap year')\n",
    "else:\n",
    "    print(year,' is not a leap year')"
   ]
  },
  {
   "cell_type": "markdown",
   "id": "4828954c",
   "metadata": {},
   "source": [
    "14. Write a Python script to determine if a number is positive, negative, or zero."
   ]
  },
  {
   "cell_type": "code",
   "execution_count": 12,
   "id": "67569eca",
   "metadata": {},
   "outputs": [
    {
     "name": "stdout",
     "output_type": "stream",
     "text": [
      "Enter a number: 17\n",
      "17 is positive\n"
     ]
    }
   ],
   "source": [
    "num=int(input('Enter a number: '))\n",
    "if num>=0:\n",
    "    if num==0:\n",
    "        print(num,'is zero')\n",
    "    else:\n",
    "        print(num,'is positive')\n",
    "else:\n",
    "    print(num,'is negative')"
   ]
  },
  {
   "cell_type": "markdown",
   "id": "a7a786bf",
   "metadata": {},
   "source": [
    "15. Create a program to check if a person is a teenager (between 13 and 19 years old)."
   ]
  },
  {
   "cell_type": "code",
   "execution_count": 16,
   "id": "4d287464",
   "metadata": {},
   "outputs": [
    {
     "name": "stdout",
     "output_type": "stream",
     "text": [
      "Enter the age: 16\n",
      "The person is a teenager\n"
     ]
    }
   ],
   "source": [
    "age=int(input('Enter the age: '))\n",
    "if age>=13:\n",
    "    if age<=19:\n",
    "        print('The person is a teenager')\n",
    "    else:\n",
    "        print('The person is an adult')\n",
    "else:\n",
    "    print('The person is a preteen')"
   ]
  },
  {
   "cell_type": "markdown",
   "id": "4d476f54",
   "metadata": {},
   "source": [
    "16. Develop a program that determines the type of angle based on its measure (acute, obtuse, or right)."
   ]
  },
  {
   "cell_type": "code",
   "execution_count": 20,
   "id": "6d92b0d0",
   "metadata": {},
   "outputs": [
    {
     "name": "stdout",
     "output_type": "stream",
     "text": [
      "Enter the measure of an angle: 90\n",
      "The angle is right angle\n"
     ]
    }
   ],
   "source": [
    "angle=int(input('Enter the measure of an angle: '))\n",
    "if 90<=angle<180:\n",
    "    if angle==90:\n",
    "        print('The angle is right angle')\n",
    "    else:\n",
    "        print('The angle is obtuse angle')\n",
    "else:\n",
    "    print('The angle is acute angle')"
   ]
  },
  {
   "cell_type": "markdown",
   "id": "31abd0a7",
   "metadata": {},
   "source": [
    "17.Write a Python program to calculate the roots of a quadratic equation."
   ]
  },
  {
   "cell_type": "code",
   "execution_count": 16,
   "id": "f280a9af",
   "metadata": {},
   "outputs": [
    {
     "name": "stdout",
     "output_type": "stream",
     "text": [
      "quadratic function= a*x^2+b*x+c\n",
      "Enter a: 5\n",
      "Enter b: 20\n",
      "Enter c: 10\n",
      "The two square roots are -0.5857864376269049 -3.414213562373095\n"
     ]
    }
   ],
   "source": [
    "print('quadratic function= a*x^2+b*x+c')\n",
    "a=float(input('Enter a: '))\n",
    "b=float(input('Enter b: '))\n",
    "c=float(input('Enter c: '))\n",
    "r=b**2 - 4*a*c\n",
    "r1=r**0.5\n",
    "if r>=0:\n",
    "    if r>0:\n",
    "        num_roots=2\n",
    "        x1=(((-b)+r1)/(2*a))\n",
    "        x2=(((-b)-r1)/(2*a))\n",
    "        print('The two square roots are',x1,x2)\n",
    "    else:\n",
    "        num_roots=1\n",
    "        x=(-b)/(2*a)\n",
    "        print('There is one root ',x)\n",
    "else:\n",
    "    num_roots=0\n",
    "    print('No roots')"
   ]
  },
  {
   "cell_type": "markdown",
   "id": "4fb8646b",
   "metadata": {},
   "source": [
    "18. Implement a program to determine the day of the week based on a user-provided number (1 for Monday, 2 for Tuesday, etc.)."
   ]
  },
  {
   "cell_type": "code",
   "execution_count": 31,
   "id": "f74acbe4",
   "metadata": {},
   "outputs": [
    {
     "name": "stdout",
     "output_type": "stream",
     "text": [
      "Enter the day number: 3\n",
      "Day 3 is Wednessday\n"
     ]
    }
   ],
   "source": [
    "day=int(input('Enter the day number: '))\n",
    "if 0<day<=7:\n",
    "    if day==1:\n",
    "        print(f'Day {day} is Monday')\n",
    "    if day==2:\n",
    "        print(f'Day {day} is Tuesday')\n",
    "    if day==3:\n",
    "        print(f'Day {day} is Wednessday')\n",
    "    if day==4:\n",
    "        print(f'Day {day} is Thursday')\n",
    "    if day==5:\n",
    "        print(f'Day {day} is Friday')\n",
    "    if day==6:\n",
    "        print(f'Day {day} is Saturday')\n",
    "    if day==7:\n",
    "        print(f'Day {day} is Sunday')\n",
    "else:\n",
    "    print(f'Day {day} is invalid')"
   ]
  },
  {
   "cell_type": "markdown",
   "id": "1563cea5",
   "metadata": {},
   "source": [
    "19. Create a program that determines if a year is a leap year and also if it is evenly divisible by 400."
   ]
  },
  {
   "cell_type": "code",
   "execution_count": 4,
   "id": "4f3822af",
   "metadata": {},
   "outputs": [
    {
     "name": "stdout",
     "output_type": "stream",
     "text": [
      "Enter a year to check leap year: 2000\n",
      "2000 is a leap year and also evenly divisible by 400\n"
     ]
    }
   ],
   "source": [
    "year=int(input('Enter a year to check leap year: '))\n",
    "if year%4==0:\n",
    "    if year%100==0:\n",
    "        if year%400==0:\n",
    "            print(year,'is a leap year and also evenly divisible by 400')\n",
    "        else:\n",
    "            print(year,'is not a leap year')\n",
    "    else:\n",
    "        print(year,'is a leap year')\n",
    "else:\n",
    "    print(year,'is not a leap year')"
   ]
  },
  {
   "cell_type": "markdown",
   "id": "b9160829",
   "metadata": {},
   "source": [
    "20. Develop a program that checks if a given number is prime or not using nested if-else statements."
   ]
  },
  {
   "cell_type": "code",
   "execution_count": 15,
   "id": "2834ff57",
   "metadata": {},
   "outputs": [
    {
     "name": "stdout",
     "output_type": "stream",
     "text": [
      "Enter the number to check the prime: 97\n",
      "97 is a prime number\n"
     ]
    }
   ],
   "source": [
    "num=int(input('Enter the number to check the prime: '))\n",
    "if num>1:\n",
    "    for i in range(2,num):\n",
    "        if num%i==0:\n",
    "            print(num,'is not a prime number')\n",
    "            break\n",
    "    else:\n",
    "        print(num,'is a prime number')\n",
    "            \n",
    "else:\n",
    "    print(num,'is not a prime number')\n",
    "            "
   ]
  },
  {
   "cell_type": "markdown",
   "id": "464fbb0e",
   "metadata": {},
   "source": [
    "# Elif Statements:"
   ]
  },
  {
   "cell_type": "markdown",
   "id": "bdec8a03",
   "metadata": {},
   "source": [
    "21. Write a Python program to assign grades based on different ranges of scores using elif statements."
   ]
  },
  {
   "cell_type": "code",
   "execution_count": 17,
   "id": "768c2083",
   "metadata": {},
   "outputs": [
    {
     "name": "stdout",
     "output_type": "stream",
     "text": [
      "Enter the score to check the grade: 93\n",
      "The grade is O\n"
     ]
    }
   ],
   "source": [
    "score=int(input('Enter the score to check the grade: '))\n",
    "if score>=90:\n",
    "    print('The grade is O')\n",
    "elif 80<=score<90:\n",
    "    print('The grade is E')\n",
    "elif 70<=score<80:\n",
    "    print('The grade is A')\n",
    "elif 60<=score<70:\n",
    "    print('The grade is B')\n",
    "elif 50<=score<60:\n",
    "    print('The grade is C')\n",
    "elif 35<=score<50:\n",
    "    print('The grade is D')\n",
    "else:\n",
    "    print('The grade is F')"
   ]
  },
  {
   "cell_type": "markdown",
   "id": "eb7122c4",
   "metadata": {},
   "source": [
    "22. Implement a program to determine the type of a triangle based on its angles."
   ]
  },
  {
   "cell_type": "code",
   "execution_count": 26,
   "id": "f9a2626b",
   "metadata": {},
   "outputs": [
    {
     "name": "stdout",
     "output_type": "stream",
     "text": [
      "Enter the measure of an angle: 145\n",
      "The angle is obtuse angle\n"
     ]
    }
   ],
   "source": [
    "angle=int(input('Enter the measure of an angle: '))\n",
    "if 90<angle<180:\n",
    "    print('The angle is obtuse angle')\n",
    "elif angle==90:\n",
    "        print('The angle is right angle')\n",
    "else:\n",
    "    print('The angle is acute angle')"
   ]
  },
  {
   "cell_type": "markdown",
   "id": "4b0e296a",
   "metadata": {},
   "source": [
    "23. Develop a program to categorize a given person's BMI into underweight, normal, overweight, or obese using elif statements."
   ]
  },
  {
   "cell_type": "code",
   "execution_count": 3,
   "id": "d0efc284",
   "metadata": {},
   "outputs": [
    {
     "name": "stdout",
     "output_type": "stream",
     "text": [
      "Enter the weight kilograms: 110\n",
      "Enter the height Centimeters: 185.928\n",
      "your bmi is 31.82021354039424 and you are obese.\n"
     ]
    }
   ],
   "source": [
    "weight=float(input('Enter the weight kilograms: '))\n",
    "height=float(input('Enter the height Centimeters: '))\n",
    "bmi=(weight/height/height)*10000\n",
    "if bmi<18.5:\n",
    "    print(f'your bmi is {bmi} and you are underweight.')\n",
    "elif 18.5<=bmi<=24.9:\n",
    "    print(f'your bmi is {bmi} and you are healthy.')\n",
    "elif 25<=bmi<=29.9:\n",
    "    print(f'your bmi is {bmi} and you are overweight.')\n",
    "else:\n",
    "    print(f'your bmi is {bmi} and you are obese.')"
   ]
  },
  {
   "cell_type": "markdown",
   "id": "200ae1cb",
   "metadata": {},
   "source": [
    "24. Create a program that determines whether a given number is positive, negative, or zero using elif statements."
   ]
  },
  {
   "cell_type": "code",
   "execution_count": 29,
   "id": "b1765fd3",
   "metadata": {},
   "outputs": [
    {
     "name": "stdout",
     "output_type": "stream",
     "text": [
      "Enter a number to check if it is positive or negative: -12\n",
      "-12 is negative\n"
     ]
    }
   ],
   "source": [
    "num=int(input('Enter a number to check if it is positive or negative: '))\n",
    "if num>0:\n",
    "    print(num,'is positive')\n",
    "elif num==0:\n",
    "    print(num,'is zero')\n",
    "else:\n",
    "    print(num,'is negative')"
   ]
  },
  {
   "cell_type": "markdown",
   "id": "3a4bf3ab",
   "metadata": {},
   "source": [
    "25. Write a Python script to determine the type of a character (uppercase, lowercase, or special) using elif statements."
   ]
  },
  {
   "cell_type": "code",
   "execution_count": 7,
   "id": "969a380e",
   "metadata": {},
   "outputs": [
    {
     "name": "stdout",
     "output_type": "stream",
     "text": [
      "Enter a character to check uppercase,lowercase or special: /\n",
      "Entered character / is a special character.\n"
     ]
    }
   ],
   "source": [
    "ch=str(input('Enter a character to check uppercase,lowercase or special: '))\n",
    "if ch.isupper():\n",
    "    print(f'Entered character {ch} is in uppercase.')\n",
    "elif ch.islower():\n",
    "    print(f'Entered character {ch} is in lowercase.')\n",
    "else:\n",
    "    print(f'Entered character {ch} is a special character.')"
   ]
  },
  {
   "cell_type": "markdown",
   "id": "12f6ad55",
   "metadata": {},
   "source": [
    "26. Implement a program to calculate the discounted price based on different purchase amounts using elif statements."
   ]
  },
  {
   "cell_type": "code",
   "execution_count": 8,
   "id": "cff6b4bb",
   "metadata": {},
   "outputs": [
    {
     "name": "stdout",
     "output_type": "stream",
     "text": [
      "Enter the purchase amount: 7536\n",
      "20% discount applied\n",
      "The final bill after discount is 6028.8\n"
     ]
    }
   ],
   "source": [
    "price=int(input('Enter the purchase amount: '))\n",
    "if 999<price<=4999:\n",
    "    print('10% discount applied')\n",
    "    final_bill=price-(price*10)/100\n",
    "    print('The final bill after discount is',final_bill)\n",
    "elif price>4999:\n",
    "    print('20% discount applied')\n",
    "    final_bill=price-(price*20)/100\n",
    "    print('The final bill after discount is', final_bill)\n",
    "else:\n",
    "    print('No discount applied')\n",
    "    print('The final bill after no discount is',price)"
   ]
  },
  {
   "cell_type": "markdown",
   "id": "19c17072",
   "metadata": {},
   "source": [
    "27. Develop a program to calculate the electricity bill based on different consumption slabs using elif statements."
   ]
  },
  {
   "cell_type": "code",
   "execution_count": 10,
   "id": "539d0c72",
   "metadata": {},
   "outputs": [
    {
     "name": "stdout",
     "output_type": "stream",
     "text": [
      "Enter the present month unit: 52298\n",
      "Enter the previous month unit: 51517\n",
      "The total bill of 781 unit is 4392.200000000001\n"
     ]
    }
   ],
   "source": [
    "pres=int(input('Enter the present month unit: '))\n",
    "prev=int(input('Enter the previous month unit: '))\n",
    "total_unit=pres-prev\n",
    "\n",
    "if 0<total_unit<=50:\n",
    "    total_bill=total_unit*3\n",
    "    print(f'The total bill of {total_unit} unit is',total_bill)\n",
    "\n",
    "elif 50<total_unit<=200:\n",
    "    first50=50*3\n",
    "    rem=total_unit-50\n",
    "    total_bill=(rem*4.8)+first50\n",
    "    print(f'The total bill of {total_unit} unit is', total_bill)\n",
    "\n",
    "\n",
    "elif 200<total_unit<=400:\n",
    "    first50 = 50 * 3\n",
    "    second150=150*4.80\n",
    "    rem=total_unit-200\n",
    "    total_bill=(rem*5.80)+first50+second150\n",
    "    print(f'The total bill of {total_unit} unit is', total_bill)\n",
    "else:\n",
    "    first50 = 50 * 3\n",
    "    second150 = 150 * 4.80\n",
    "    third200=200*5.80\n",
    "    rem=total_unit-400\n",
    "    total_bill=(rem*6.20)+first50+second150+third200\n",
    "    print(f'The total bill of {total_unit} unit is', total_bill)"
   ]
  },
  {
   "cell_type": "markdown",
   "id": "36941f87",
   "metadata": {},
   "source": [
    "28. Create a program to determine the type of quadrilateral based on its angles and sides using elif statements."
   ]
  },
  {
   "cell_type": "code",
   "execution_count": 15,
   "id": "d36534c1",
   "metadata": {},
   "outputs": [
    {
     "name": "stdout",
     "output_type": "stream",
     "text": [
      "Enter the first side of the triangle: 10\n",
      "Enter the second side of the triangle: 11\n",
      "Enter the third side of the triangle: 12\n",
      "This triangle is Scalene\n"
     ]
    }
   ],
   "source": [
    "tri1=int(input('Enter the first side of the triangle: '))\n",
    "tri2=int(input('Enter the second side of the triangle: '))\n",
    "tri3=int(input('Enter the third side of the triangle: '))\n",
    "if tri1==tri2==tri3:\n",
    "    print('This triangle is Equilateral')\n",
    "elif tri1==tri2 or tri1==tri3 or tri2==tri3:\n",
    "    print('This triangle is Isosceles')\n",
    "else:\n",
    "    print('This triangle is Scalene')"
   ]
  },
  {
   "cell_type": "markdown",
   "id": "b6be78e1",
   "metadata": {},
   "source": [
    "29. Write a Python script to determine the season based on a user-provided month using elif statements."
   ]
  },
  {
   "cell_type": "code",
   "execution_count": 18,
   "id": "807bf2c3",
   "metadata": {},
   "outputs": [
    {
     "name": "stdout",
     "output_type": "stream",
     "text": [
      "Enter month: may\n",
      "The month may comes in Summer Season\n"
     ]
    }
   ],
   "source": [
    "month=str.lower(input('Enter month: '))\n",
    "if month=='march' or month=='april' or month=='may':\n",
    "    print(f'The month {month} comes in Summer Season')\n",
    "elif month=='june' or month=='july' or month=='august':\n",
    "    print(f'The month {month} comes in Monsoon Season')\n",
    "elif month=='september' or month=='october' or month=='november':\n",
    "    print(f'The month {month} comes in Autumn Season')\n",
    "elif month=='december' or month=='january' or month=='February':\n",
    "    print(f'The month {month} comes in Winter Season')\n",
    "else:\n",
    "    print('Entered month is invalid')"
   ]
  },
  {
   "cell_type": "markdown",
   "id": "59ae7b29",
   "metadata": {},
   "source": [
    "30. Implement a program to determine the type of a year (leap or common) and month (30 or 31 days) using elif statements."
   ]
  },
  {
   "cell_type": "code",
   "execution_count": 20,
   "id": "a609f685",
   "metadata": {},
   "outputs": [
    {
     "name": "stdout",
     "output_type": "stream",
     "text": [
      "Enter your desired year: 2015\n",
      "Enter the month: july\n",
      "The year 2015 is a common year and the month july contains 31 days\n"
     ]
    }
   ],
   "source": [
    "year=int(input('Enter your desired year: '))\n",
    "month=str.lower(input('Enter the month: '))\n",
    "if (year%4==0 and year%100!=0) or (year%400==0 and year%100==0):\n",
    "    if month=='january' or month=='march' or month=='may' or month=='july' or month=='august' or month=='october' or month=='december':\n",
    "        print(f'The year {year} is a leap year and the month {month} contains 31 days')\n",
    "    elif month=='april' or month=='june' or month=='september' or month=='november':\n",
    "        print(f'The year {year} is a leap year and the month {month} contains 30 days')\n",
    "    elif month=='february':\n",
    "        print(f'The year {year} is a leap year and the month {month} contains 29 days')\n",
    "    else:\n",
    "        print('invalid month entered')\n",
    "else:\n",
    "    if month=='january' or month=='march' or month=='may' or month=='july' or month=='august' or month=='october' or month=='december':\n",
    "        print(f'The year {year} is a common year and the month {month} contains 31 days')\n",
    "    elif month=='april' or month=='june' or month=='september' or month=='november':\n",
    "        print(f'The year {year} is a common year and the month {month} contains 30 days')\n",
    "    elif month=='february':\n",
    "        print(f'The year {year} is a common year and the month {month} contains 28 days')\n",
    "    else:\n",
    "        print('invalid month entered')"
   ]
  },
  {
   "cell_type": "markdown",
   "id": "3ac11e58",
   "metadata": {},
   "source": [
    "# Basic Level:"
   ]
  },
  {
   "cell_type": "markdown",
   "id": "2e4e29a6",
   "metadata": {},
   "source": [
    "1. Write a Python program that checks if a given number is positive, negative, or zero."
   ]
  },
  {
   "cell_type": "code",
   "execution_count": 5,
   "id": "29def4f9",
   "metadata": {},
   "outputs": [
    {
     "name": "stdout",
     "output_type": "stream",
     "text": [
      "Enter a number: 67\n",
      "67 is positive\n"
     ]
    }
   ],
   "source": [
    "num=int(input('Enter a number: '))\n",
    "if num>0:\n",
    "    print(num,'is positive')\n",
    "elif num<0:\n",
    "    print(num,'is negative')\n",
    "else:\n",
    "    print(num,'is zero')"
   ]
  },
  {
   "cell_type": "markdown",
   "id": "e402dabc",
   "metadata": {},
   "source": [
    "2. Create a program to determine if a person is eligible to vote based on their age."
   ]
  },
  {
   "cell_type": "code",
   "execution_count": 2,
   "id": "b4e59476",
   "metadata": {},
   "outputs": [
    {
     "name": "stdout",
     "output_type": "stream",
     "text": [
      "Enter age: 18\n",
      "Entered age: 18\n",
      "You are eligible to vote\n"
     ]
    }
   ],
   "source": [
    "age=int(input('Enter age: '))\n",
    "print('Entered age:',age)\n",
    "if age>=18:\n",
    "    print('You are eligible to vote')\n",
    "else:\n",
    "    print('you are not eligible to vote')"
   ]
  },
  {
   "cell_type": "markdown",
   "id": "03dd75c8",
   "metadata": {},
   "source": [
    "3. Write a program to find the maximum of two given numbers using conditional statements."
   ]
  },
  {
   "cell_type": "code",
   "execution_count": 3,
   "id": "edcf4c1a",
   "metadata": {},
   "outputs": [
    {
     "name": "stdout",
     "output_type": "stream",
     "text": [
      "Enter the first number: 13\n",
      "Enter the second number: 14\n",
      "14 is the maximum number\n"
     ]
    }
   ],
   "source": [
    "num1=int(input('Enter the first number: '))\n",
    "num2=int(input('Enter the second number: '))\n",
    "if num1>num2:\n",
    "    print(num1,'is the maximum number')\n",
    "else:\n",
    "    print(num2,'is the maximum number')"
   ]
  },
  {
   "cell_type": "markdown",
   "id": "9aa0cbef",
   "metadata": {},
   "source": [
    "4. Develop a program that calculates the grade of a student based on their exam score."
   ]
  },
  {
   "cell_type": "code",
   "execution_count": 4,
   "id": "61b28419",
   "metadata": {},
   "outputs": [
    {
     "name": "stdout",
     "output_type": "stream",
     "text": [
      "Enter the score to check the grade: 92\n",
      "The grade is O\n"
     ]
    }
   ],
   "source": [
    "score=int(input('Enter the score to check the grade: '))\n",
    "if score>=90:\n",
    "    print('The grade is O')\n",
    "elif 80<=score<90:\n",
    "    print('The grade is E')\n",
    "elif 70<=score<80:\n",
    "    print('The grade is A')\n",
    "elif 60<=score<70:\n",
    "    print('The grade is B')\n",
    "elif 50<=score<60:\n",
    "    print('The grade is C')\n",
    "elif 35<=score<50:\n",
    "    print('The grade is D')\n",
    "else:\n",
    "    print('The grade is F')"
   ]
  },
  {
   "cell_type": "markdown",
   "id": "5c189523",
   "metadata": {},
   "source": [
    "5. Create a program that checks if a year is a leap year or not."
   ]
  },
  {
   "cell_type": "code",
   "execution_count": 11,
   "id": "9fa4e697",
   "metadata": {},
   "outputs": [
    {
     "name": "stdout",
     "output_type": "stream",
     "text": [
      "Enter the year to check leap year:1800\n",
      "1800 is not a leap year\n"
     ]
    }
   ],
   "source": [
    "year=int(input('Enter the year to check leap year:'))\n",
    "if year%4==0:\n",
    "    if year%100==0:\n",
    "        if year%400==0:\n",
    "            print(year,'is a leap year')\n",
    "        else:\n",
    "            print(year,'is not a leap year')\n",
    "    else:\n",
    "        print(year,'is a leap year')\n",
    "else:\n",
    "    print(year,'is not a leap year')\n",
    "            "
   ]
  },
  {
   "cell_type": "markdown",
   "id": "8538d347",
   "metadata": {},
   "source": [
    "6. Write a program to classify a triangle based on its sides' lengths."
   ]
  },
  {
   "cell_type": "code",
   "execution_count": 19,
   "id": "8dcb9957",
   "metadata": {},
   "outputs": [
    {
     "name": "stdout",
     "output_type": "stream",
     "text": [
      "Enter the side one of triangle: 12\n",
      "Enter the side two of triangle: 13\n",
      "Enter the side three of triangle: 12\n",
      "This triangle is isosceles triangle.\n"
     ]
    }
   ],
   "source": [
    "side1=int(input('Enter the side one of triangle: '))\n",
    "side2=int(input('Enter the side two of triangle: '))\n",
    "side3=int(input('Enter the side three of triangle: '))\n",
    "\n",
    "if side1==side2 or side1==side3 or side2==side3:\n",
    "    if side1==side2==side3:\n",
    "        print('This triangle is equilateral triangle.')\n",
    "    else:\n",
    "        print('This triangle is isosceles triangle.')\n",
    "else:\n",
    "    print('This triangle is scalene triangle.')\n"
   ]
  },
  {
   "cell_type": "markdown",
   "id": "35fec7b1",
   "metadata": {},
   "source": [
    "7. Build a program that determines the largest of three given numbers."
   ]
  },
  {
   "cell_type": "code",
   "execution_count": 27,
   "id": "0dffcafa",
   "metadata": {},
   "outputs": [
    {
     "name": "stdout",
     "output_type": "stream",
     "text": [
      "Enter the first number: 12\n",
      "Enter the second number: 13\n",
      "Enter the third number: 14\n",
      "14 is largest among 12 13 14\n"
     ]
    }
   ],
   "source": [
    "num1=int(input('Enter the first number: '))\n",
    "num2=int(input('Enter the second number: '))\n",
    "num3=int(input('Enter the third number: '))\n",
    "if num1>num2 and num1>num3:\n",
    "    print(num1,'is largest among',num1,num2,num3)\n",
    "elif num2>num1 and num2>num3:\n",
    "    print(num2,'is largest among',num1,num2,num3)\n",
    "else:\n",
    "    print(num3,'is largest among',num1,num2,num3)"
   ]
  },
  {
   "cell_type": "markdown",
   "id": "d2f6605d",
   "metadata": {},
   "source": [
    "8. Develop a program that checks whether a character is a vowel or a consonant."
   ]
  },
  {
   "cell_type": "code",
   "execution_count": 35,
   "id": "0a831ab1",
   "metadata": {},
   "outputs": [
    {
     "name": "stdout",
     "output_type": "stream",
     "text": [
      "Enter a character to check it is vowel or consonant:e\n",
      "e is a vowel\n"
     ]
    }
   ],
   "source": [
    "char=input('Enter a character to check it is vowel or consonant:').lower()\n",
    "if char=='a' or char=='e' or char=='i' or char=='o' or char=='u':\n",
    "    print(char,'is a vowel')\n",
    "else:\n",
    "    print(char,'is a consonant')"
   ]
  },
  {
   "cell_type": "markdown",
   "id": "6c1e55a7",
   "metadata": {},
   "source": [
    "9. Create a program to calculate the total cost of a shopping cart based on discounts."
   ]
  },
  {
   "cell_type": "code",
   "execution_count": 38,
   "id": "c7fd2df8",
   "metadata": {},
   "outputs": [
    {
     "name": "stdout",
     "output_type": "stream",
     "text": [
      "Enter the purchase amount: 250\n",
      "No discount applied\n",
      "The final bill after no discount is 250\n"
     ]
    }
   ],
   "source": [
    "price=int(input('Enter the purchase amount: '))\n",
    "if 999<price<=4999:\n",
    "    print('10% discount applied')\n",
    "    final_bill=price-(price*10)/100\n",
    "    print('The final bill after discount is',final_bill)\n",
    "elif price>4999:\n",
    "    print('20% discount applied')\n",
    "    final_bill=price-(price*20)/100\n",
    "    print('The final bill after discount is', final_bill)\n",
    "else:\n",
    "    print('No discount applied')\n",
    "    print('The final bill after no discount is',price)"
   ]
  },
  {
   "cell_type": "markdown",
   "id": "c40777f9",
   "metadata": {},
   "source": [
    "10. Write a program that checks if a given number is even or odd."
   ]
  },
  {
   "cell_type": "code",
   "execution_count": 31,
   "id": "6d0e29c1",
   "metadata": {},
   "outputs": [
    {
     "name": "stdout",
     "output_type": "stream",
     "text": [
      "Enter a number to check if it even or odd: 14\n",
      "14 is even\n"
     ]
    }
   ],
   "source": [
    "num=int(input('Enter a number to check if it even or odd: '))\n",
    "if num%2==0:\n",
    "    print(num,'is even')\n",
    "else:\n",
    "    print(num,'is odd')"
   ]
  },
  {
   "cell_type": "markdown",
   "id": "ee2309eb",
   "metadata": {},
   "source": [
    "# Intermediate Level:"
   ]
  },
  {
   "cell_type": "markdown",
   "id": "b64028ba",
   "metadata": {},
   "source": [
    "11. Write a program that calculates the roots of a quadratic equation ."
   ]
  },
  {
   "cell_type": "code",
   "execution_count": 40,
   "id": "e2e8b492",
   "metadata": {},
   "outputs": [
    {
     "name": "stdout",
     "output_type": "stream",
     "text": [
      "quadratic function= a*x^2+b*x+c\n",
      "Enter a: 5\n",
      "Enter b: 20\n",
      "Enter c: 10\n",
      "The two square roots are -0.5857864376269049 -3.414213562373095\n"
     ]
    }
   ],
   "source": [
    "print('quadratic function= a*x^2+b*x+c')\n",
    "a=float(input('Enter a: '))\n",
    "b=float(input('Enter b: '))\n",
    "c=float(input('Enter c: '))\n",
    "r=b**2 - 4*a*c\n",
    "r1=r**0.5\n",
    "if r>=0:\n",
    "    if r>0:\n",
    "        num_roots=2\n",
    "        x1=(((-b)+r1)/(2*a))\n",
    "        x2=(((-b)-r1)/(2*a))\n",
    "        print('The two square roots are',x1,x2)\n",
    "    else:\n",
    "        num_roots=1\n",
    "        x=(-b)/(2*a)\n",
    "        print('There is one root ',x)\n",
    "else:\n",
    "    num_roots=0\n",
    "    print('No roots')"
   ]
  },
  {
   "cell_type": "markdown",
   "id": "8411a2df",
   "metadata": {},
   "source": [
    "12. Create a program that determines the day of the week based on the day number (1-7)."
   ]
  },
  {
   "cell_type": "code",
   "execution_count": 1,
   "id": "06c1f47d",
   "metadata": {},
   "outputs": [
    {
     "name": "stdout",
     "output_type": "stream",
     "text": [
      "Enter a day number:4\n",
      "Today is Wednessday\n"
     ]
    }
   ],
   "source": [
    "day=int(input('Enter a day number:'))\n",
    "if day==1:\n",
    "    print('Today is Sunday')\n",
    "elif day==2:\n",
    "    print('Today is Monday')\n",
    "elif day==3:\n",
    "    print('Today is Tuesday')\n",
    "elif day==4:\n",
    "    print('Today is Wednessday')\n",
    "elif day==5:\n",
    "    print('Today is Thursday')\n",
    "elif day==6:\n",
    "    print('Today is Friday')\n",
    "elif day==7:\n",
    "    print('Today is Saturday')\n",
    "else:\n",
    "    print('Wrong Input Please try to enter right day')"
   ]
  },
  {
   "cell_type": "markdown",
   "id": "b2f9f38d",
   "metadata": {},
   "source": [
    "13. Develop a program that calculates the factorial of a given number using recursion."
   ]
  },
  {
   "cell_type": "code",
   "execution_count": 6,
   "id": "35830fd0",
   "metadata": {},
   "outputs": [
    {
     "name": "stdout",
     "output_type": "stream",
     "text": [
      "Enter a number for factorial: 5\n",
      "The factorial of 5 is 120\n"
     ]
    }
   ],
   "source": [
    "def fact(num):\n",
    "    if num==0 or num==1:\n",
    "        return 1\n",
    "    else:\n",
    "        return num*fact(num-1)\n",
    "num=int(input('Enter a number for factorial: '))\n",
    "print(f'The factorial of {num} is {fact(num)}')"
   ]
  },
  {
   "cell_type": "markdown",
   "id": "c8935fd9",
   "metadata": {},
   "source": [
    "14. Write a program to find the largest among three numbers without using the `max()` function."
   ]
  },
  {
   "cell_type": "code",
   "execution_count": 11,
   "id": "c5dec509",
   "metadata": {},
   "outputs": [
    {
     "name": "stdout",
     "output_type": "stream",
     "text": [
      "Enter first number: 2\n",
      "Enter second number: 4\n",
      "Enter third number: 5\n",
      "5 is gretest among all\n"
     ]
    }
   ],
   "source": [
    "num1=int(input('Enter first number: '))\n",
    "num2=int(input('Enter second number: '))\n",
    "num3=int(input('Enter third number: '))\n",
    "\n",
    "if num1>num2 and num1>num3:\n",
    "    print(num1,'is greatest among all')\n",
    "elif num2>num1 and num2>num3:\n",
    "    print(num2,'is greatest among all')\n",
    "else:\n",
    "    print(num3,'is gretest among all')"
   ]
  },
  {
   "cell_type": "markdown",
   "id": "d12b0027",
   "metadata": {},
   "source": [
    "15. Create a program that simulates a basic ATM transaction menu."
   ]
  },
  {
   "cell_type": "code",
   "execution_count": 1,
   "id": "dd9e7faa",
   "metadata": {},
   "outputs": [
    {
     "name": "stdout",
     "output_type": "stream",
     "text": [
      "ATM Menu\n",
      "1. check balance\n",
      "2. Deposit\n",
      "3. Withdraw\n",
      "4. Exit\n",
      "Enter your choice(1-4): 1\n",
      "The account balance is 1000\n",
      "ATM Menu\n",
      "1. check balance\n",
      "2. Deposit\n",
      "3. Withdraw\n",
      "4. Exit\n",
      "Enter your choice(1-4): 2\n",
      "Enter the amount to deposit: 500\n",
      "After depositing the balance: 1500\n",
      "ATM Menu\n",
      "1. check balance\n",
      "2. Deposit\n",
      "3. Withdraw\n",
      "4. Exit\n",
      "Enter your choice(1-4): 3\n",
      "Enter the amount for withdraw: 2000\n",
      "Insufficient Funds,The total balance available: 1500\n",
      "ATM Menu\n",
      "1. check balance\n",
      "2. Deposit\n",
      "3. Withdraw\n",
      "4. Exit\n",
      "Enter your choice(1-4): 3\n",
      "Enter the amount for withdraw: 1000\n",
      "The withdrawl amount: 1000\n",
      "Now the updated balance: 500\n",
      "ATM Menu\n",
      "1. check balance\n",
      "2. Deposit\n",
      "3. Withdraw\n",
      "4. Exit\n",
      "Enter your choice(1-4): 4\n",
      "Exiting The ATM,thanks for using it\n"
     ]
    }
   ],
   "source": [
    "def main(balance):\n",
    "    while True:\n",
    "        print('ATM Menu')\n",
    "        print('1. check balance')\n",
    "        print('2. Deposit')\n",
    "        print('3. Withdraw')\n",
    "        print('4. Exit')\n",
    "\n",
    "        choice=int(input('Enter your choice(1-4): '))\n",
    "\n",
    "        if choice==1:\n",
    "            print('The account balance is',balance)\n",
    "        elif choice==2:\n",
    "            deposit=int(input('Enter the amount to deposit: '))\n",
    "            balance+=deposit\n",
    "            print('After depositing the balance:',balance)\n",
    "        elif choice==3:\n",
    "            withdraw=int(input('Enter the amount for withdraw: '))\n",
    "            if withdraw>balance:\n",
    "                print('Insufficient Funds,The total balance available:',balance)\n",
    "            else:\n",
    "                print('The withdrawl amount:',withdraw)\n",
    "                balance-=withdraw\n",
    "                print('Now the updated balance:',balance)\n",
    "        elif choice==4:\n",
    "            print('Exiting The ATM,thanks for using it')\n",
    "            break\n",
    "        else:\n",
    "            print('Entered wrong choice,Please enter between 1 to 4')\n",
    "\n",
    "if __name__=='__main__':\n",
    "    main(1000)"
   ]
  },
  {
   "cell_type": "markdown",
   "id": "32985a1d",
   "metadata": {},
   "source": [
    "16. Build a program that checks if a given string is a palindrome or not."
   ]
  },
  {
   "cell_type": "code",
   "execution_count": 12,
   "id": "dac23353",
   "metadata": {},
   "outputs": [
    {
     "name": "stdout",
     "output_type": "stream",
     "text": [
      "Enter a string to check palindrome: liril\n",
      "liril is palindrome\n"
     ]
    }
   ],
   "source": [
    "string=input('Enter a string to check palindrome: ')\n",
    "if string==string[::-1]:\n",
    "    print(string,'is palindrome')\n",
    "else:\n",
    "    print(string,'is not palindrome')"
   ]
  },
  {
   "cell_type": "markdown",
   "id": "0c813485",
   "metadata": {},
   "source": [
    "17. Write a program that calculates the average of a list of numbers, excluding the smallest and largest values."
   ]
  },
  {
   "cell_type": "code",
   "execution_count": 52,
   "id": "32c6e42f",
   "metadata": {},
   "outputs": [
    {
     "name": "stdout",
     "output_type": "stream",
     "text": [
      "The average of this list: 15.555555555555555\n"
     ]
    }
   ],
   "source": [
    "lst=[10,11,12,13,14,25,16,17,18,19,20]\n",
    "sumation=0\n",
    "minimum_value=min(lst)\n",
    "maximum_value=max(lst)\n",
    "lst.remove(minimum_value)\n",
    "lst.remove(maximum_value)\n",
    "for i in lst:\n",
    "    sumation+=i\n",
    "avg=sumation/len(lst)\n",
    "print('The average of this list:',avg)"
   ]
  },
  {
   "cell_type": "markdown",
   "id": "755d1686",
   "metadata": {},
   "source": [
    "18. Develop a program that converts a given temperature from Celsius to Fahrenheit."
   ]
  },
  {
   "cell_type": "code",
   "execution_count": 14,
   "id": "7dc1d262",
   "metadata": {},
   "outputs": [
    {
     "name": "stdout",
     "output_type": "stream",
     "text": [
      "Enter a temeperature:32\n",
      "Fahrenhit of given temperature is 89.6\n"
     ]
    }
   ],
   "source": [
    "celcius=int(input('Enter a temeperature:'))\n",
    "fahrenheit=(celcius*9)/5+32\n",
    "print(f'Fahrenhit of given temperature is {fahrenheit}')"
   ]
  },
  {
   "cell_type": "markdown",
   "id": "d46cdfaa",
   "metadata": {},
   "source": [
    "19. Create a program that simulates a basic calculator for addition, subtraction, multiplication, and division."
   ]
  },
  {
   "cell_type": "code",
   "execution_count": 18,
   "id": "a837c007",
   "metadata": {},
   "outputs": [
    {
     "name": "stdout",
     "output_type": "stream",
     "text": [
      "Enter first number10\n",
      "Enter second number0\n",
      "enter operator/\n",
      "Cant divide with 0\n"
     ]
    }
   ],
   "source": [
    "num1=int(input('Enter first number'))\n",
    "num2=int(input('Enter second number'))\n",
    "opr=input('enter operator')\n",
    "\n",
    "if opr=='+':\n",
    "    print('The addition of numbers are',num1+num2)\n",
    "elif opr=='-':\n",
    "    print('The substraction of numbers are',num1-num2)\n",
    "elif opr=='*':\n",
    "    print('The Multiplication of numbers are',num1*num2)\n",
    "elif opr=='/':\n",
    "    try:\n",
    "        print('The division of numbers are',num1/num2)\n",
    "    except ZeroDivisionError:\n",
    "        print('Cant divide with 0')\n",
    "else:\n",
    "    print('Wrong Operator entered plz try again')"
   ]
  },
  {
   "cell_type": "markdown",
   "id": "f101d5c4",
   "metadata": {},
   "source": [
    "20. Write a program that determines the roots of a cubic equation using the Cardano formula."
   ]
  },
  {
   "cell_type": "code",
   "execution_count": 10,
   "id": "ba8646e3",
   "metadata": {},
   "outputs": [
    {
     "name": "stdout",
     "output_type": "stream",
     "text": [
      "Root 1: (1-0j)\n",
      "Root 2: (3+1.1102230246251565e-16j)\n",
      "Root 3: (2.0000000000000004-7.401486830834377e-17j)\n"
     ]
    }
   ],
   "source": [
    "import cmath  \n",
    "\n",
    "def solve_cubic_equation(a, b, c, d):\n",
    "   \n",
    "    if a == 0:\n",
    "        print(\"This is not a cubic equation.\")\n",
    "        return\n",
    "\n",
    "    delta_0 = b**2 - 3 * a * c\n",
    "    delta_1 = 2 * b**3 - 9 * a * b * c + 27 * a**2 * d\n",
    "    C = ((delta_1 + cmath.sqrt(delta_1**2 - 4 * delta_0**3)) / 2)**(1/3)\n",
    "\n",
    "    if C != 0:\n",
    "        root_1 = -(1 / (3 * a)) * (b + C + delta_0 / C)\n",
    "    else:\n",
    "        root_1 = -b / (3 * a)\n",
    "\n",
    "    omega = cmath.exp(2j * cmath.pi / 3)\n",
    "\n",
    "    root_2 = -(1 / (3 * a)) * (b + omega * C + delta_0 / (omega * C))\n",
    "    root_3 = -(1 / (3 * a)) * (b + omega**2 * C + delta_0 / (omega**2 * C))\n",
    "\n",
    "    print(f\"Root 1: {root_1}\")\n",
    "    print(f\"Root 2: {root_2}\")\n",
    "    print(f\"Root 3: {root_3}\")\n",
    "\n",
    "\n",
    "coefficients = [1, -6, 11, -6]  # Example coefficients for the equation x^3 - 6x^2 + 11x - 6\n",
    "solve_cubic_equation(*coefficients)\n"
   ]
  },
  {
   "cell_type": "markdown",
   "id": "055b9e3b",
   "metadata": {},
   "source": [
    "21. Create a program that calculates the income tax based on the user's income and tax brackets."
   ]
  },
  {
   "cell_type": "code",
   "execution_count": 1,
   "id": "3b64d9d8",
   "metadata": {},
   "outputs": [
    {
     "name": "stdout",
     "output_type": "stream",
     "text": [
      "Enter your income to check taxes: 2100000\n",
      "Net Tax: 330000.0\n"
     ]
    }
   ],
   "source": [
    "def net_income(income):\n",
    "    tax=0\n",
    "    if income<=700000:\n",
    "        return f'Net Tax: {tax}'\n",
    "    else:\n",
    "        if 70000<income<=900000:\n",
    "            zero_tax=0\n",
    "            income-=300000\n",
    "            five_per_tax=300000*(5/100)\n",
    "            income-=300000\n",
    "            ten_per_tax=income*(10/100)\n",
    "            tax=zero_tax+five_per_tax+ten_per_tax\n",
    "            return f'Net Tax: {tax}'\n",
    "\n",
    "        elif 900000<income<=1200000:\n",
    "            zero_tax=0\n",
    "            income-=300000\n",
    "            five_per_tax=300000*(5/100)\n",
    "            income-=300000\n",
    "            ten_per_tax=300000*(10/100)\n",
    "            income-=300000\n",
    "            fifteen_per_tax=income*(15/100)\n",
    "            tax = zero_tax + five_per_tax + ten_per_tax+fifteen_per_tax\n",
    "            return f'Net Tax: {tax}'\n",
    "\n",
    "        elif 1200000<income<=1500000:\n",
    "            zero_tax = 0\n",
    "            income -= 300000\n",
    "            five_per_tax = 300000 * (5 / 100)\n",
    "            income -= 300000\n",
    "            ten_per_tax = 300000 * (10 / 100)\n",
    "            income -= 300000\n",
    "            fifteen_per_tax = 300000 * (15 / 100)\n",
    "            income -= 300000\n",
    "            twenty_per_tax=income*(20/100)\n",
    "            tax = zero_tax + five_per_tax + ten_per_tax + fifteen_per_tax + twenty_per_tax\n",
    "            return f'Net Tax: {tax}'\n",
    "\n",
    "        elif income>1500000:\n",
    "            zero_tax = 0\n",
    "            income -= 300000\n",
    "            five_per_tax = 300000 * (5 / 100)\n",
    "            income -= 300000\n",
    "            ten_per_tax = 300000 * (10 / 100)\n",
    "            income -= 300000\n",
    "            fifteen_per_tax = 300000 * (15 / 100)\n",
    "            income -= 300000\n",
    "            twenty_per_tax = 300000 * (20 / 100)\n",
    "            income -= 300000\n",
    "            thirty_per_tax=income*(30/100)\n",
    "            tax = zero_tax + five_per_tax + ten_per_tax + fifteen_per_tax + twenty_per_tax + thirty_per_tax\n",
    "            return f'Net Tax: {tax}'\n",
    "\n",
    "        else:\n",
    "            return \"Incomes can't be in Negative\"\n",
    "\n",
    "income=int(input('Enter your income to check taxes: '))\n",
    "\n",
    "res=net_income(income)\n",
    "\n",
    "print(res)\n"
   ]
  },
  {
   "cell_type": "markdown",
   "id": "12ec867a",
   "metadata": {},
   "source": [
    "22. Write a program that simulates a rock-paper-scissors game against the computer."
   ]
  },
  {
   "cell_type": "code",
   "execution_count": 2,
   "id": "81f62482",
   "metadata": {},
   "outputs": [
    {
     "name": "stdout",
     "output_type": "stream",
     "text": [
      "Welcome to the Rock-Paper-Scissor Game\n",
      "Choose between rock,paper,scissor: scissor\n",
      "user_choice:scissor,Computer_choice:paper\n",
      "User Win\n",
      "Do you want to play again(yes/no): yes\n",
      "Choose between rock,paper,scissor: rock\n",
      "user_choice:rock,Computer_choice:scissor\n",
      "User Win\n",
      "Do you want to play again(yes/no): yes\n",
      "Choose between rock,paper,scissor: paper\n",
      "user_choice:paper,Computer_choice:paper\n",
      "It's a tie\n",
      "Do you want to play again(yes/no): yes\n",
      "Choose between rock,paper,scissor: rock\n",
      "user_choice:rock,Computer_choice:paper\n",
      "Computer Win\n",
      "Do you want to play again(yes/no): no\n",
      "Thank for playing,Good bye\n"
     ]
    }
   ],
   "source": [
    "#Write a program that simulates a rock-paper-scissors game against the computer.\n",
    "import random\n",
    "def get_user_choice():\n",
    "    while True:\n",
    "        user_choice=input('Choose between rock,paper,scissor: ').lower()\n",
    "        if user_choice in ['rock','paper','scissor']:\n",
    "            return user_choice\n",
    "        else:\n",
    "            print('invalid choice,please enter valid choice')\n",
    "\n",
    "\n",
    "def get_computer_choice():\n",
    "    choices=['rock','paper','scissor']\n",
    "    return random.choice(choices)\n",
    "\n",
    "def determine_winner(user_choice,computer_choice):\n",
    "    print(f'user_choice:{user_choice},Computer_choice:{computer_choice}')\n",
    "\n",
    "    if user_choice==computer_choice:\n",
    "        return \"It's a tie\"\n",
    "    elif ((user_choice=='rock' and computer_choice=='scissor') or\n",
    "          (user_choice=='paper' and computer_choice=='rock') or\n",
    "          (user_choice=='scissor' and computer_choice=='paper')):\n",
    "        return 'User Win'\n",
    "    else:\n",
    "        return 'Computer Win'\n",
    "\n",
    "def main():\n",
    "    print('Welcome to the Rock-Paper-Scissor Game')\n",
    "\n",
    "    while True:\n",
    "        user_choice=get_user_choice()\n",
    "        computer_choice=get_computer_choice()\n",
    "        result=determine_winner(user_choice,computer_choice)\n",
    "        print(result)\n",
    "\n",
    "        play_again=input('Do you want to play again(yes/no): ').lower()\n",
    "        if play_again!='yes':\n",
    "            print('Thank for playing,Good bye')\n",
    "            break\n",
    "\n",
    "if __name__=='__main__':\n",
    "    main()"
   ]
  },
  {
   "cell_type": "markdown",
   "id": "679a2a7e",
   "metadata": {},
   "source": [
    "23. Develop a program that generates a random password based on user preferences (length, complexity)."
   ]
  },
  {
   "cell_type": "code",
   "execution_count": 4,
   "id": "caf78264",
   "metadata": {},
   "outputs": [
    {
     "name": "stdout",
     "output_type": "stream",
     "text": [
      "Welcome to random password generator: \n",
      "Enter the length of the password: 8\n",
      "Include uppercase?(yes/no):yes\n",
      "Include Digits?(yes/no):yes\n",
      "Include special_characters?(yes/no):yes\n",
      "Generated password: Cq.Z5_)E\n",
      "Do you want genrate another password?(yes/no): yes\n",
      "Enter the length of the password: 10\n",
      "Include uppercase?(yes/no):yes\n",
      "Include Digits?(yes/no):yes\n",
      "Include special_characters?(yes/no):no\n",
      "Generated password: DpJCrBCLsl\n",
      "Do you want genrate another password?(yes/no): no\n",
      "Thanks for using it! Visit Again\n"
     ]
    }
   ],
   "source": [
    "import random\n",
    "import string\n",
    "\n",
    "def generate_password(length,include_uppercase,include_digits,include_special_chars):\n",
    "    characters=string.ascii_lowercase\n",
    "    if include_uppercase:\n",
    "        characters+=string.ascii_uppercase\n",
    "    if include_digits:\n",
    "        characters+=string.digits\n",
    "    if include_special_chars:\n",
    "        characters+=string.punctuation\n",
    "\n",
    "    if length<1:\n",
    "        print('Password must be at least 1')\n",
    "        return None\n",
    "\n",
    "    password=''.join(random.choice(characters) for _ in range(length))\n",
    "\n",
    "    return password\n",
    "\n",
    "def main():\n",
    "    print('Welcome to random password generator: ')\n",
    "\n",
    "    while True:\n",
    "        try:\n",
    "            length=int(input('Enter the length of the password: '))\n",
    "            include_uppercase=input('Include uppercase?(yes/no):').lower()=='yes'\n",
    "            include_digits=input('Include Digits?(yes/no):').lower()=='yes'\n",
    "            include_special_characters=input('Include special_characters?(yes/no):').lower()=='yes'\n",
    "\n",
    "            password=generate_password(length,include_uppercase,include_digits,include_special_characters)\n",
    "\n",
    "            if password:\n",
    "                print('Generated password:',password)\n",
    "\n",
    "            play_again=input('Do you want genrate another password?(yes/no): ')\n",
    "            if play_again!='yes':\n",
    "                print('Thanks for using it! Visit Again')\n",
    "                break\n",
    "        except ValueError:\n",
    "            print('Invalid Input! please enter a valid number for password length')\n",
    "\n",
    "\n",
    "if __name__=='__main__':\n",
    "    main()"
   ]
  },
  {
   "cell_type": "markdown",
   "id": "98fc1673",
   "metadata": {},
   "source": [
    "24. Create a program that implements a simple text-based adventure game with branching scenarios."
   ]
  },
  {
   "cell_type": "code",
   "execution_count": 3,
   "id": "d27d8ba8",
   "metadata": {},
   "outputs": [
    {
     "name": "stdout",
     "output_type": "stream",
     "text": [
      "Welcome to the Adventure Game!\n",
      "You find  yourself in a dark cave with two tunnels ahead\n",
      "Choose your path wisely\n",
      "What will you do?\n",
      "1. Enter the left tunnel.\n",
      "2. Enter the right tunnel.\n",
      "Enter 1 or 2:2\n",
      "You enter the right tunnel and encounter a ferocious dragon!\n",
      "What will you do?\n",
      "1.Try to fight dragon?\n",
      "2.Attempt to snaek around it\n",
      "Enter your choice: 2\n",
      "Successfully sneak the dragon around and find the exit\n",
      "Congratulations! You escaped the cave\n"
     ]
    }
   ],
   "source": [
    "import time\n",
    "\n",
    "def introduction():\n",
    "    print('Welcome to the Adventure Game!')\n",
    "    print('You find  yourself in a dark cave with two tunnels ahead')\n",
    "    print('Choose your path wisely')\n",
    "\n",
    "def make_choice():\n",
    "    print('What will you do?')\n",
    "    print('1. Enter the left tunnel.')\n",
    "    print('2. Enter the right tunnel.')\n",
    "    choice=int(input('Enter 1 or 2:'))\n",
    "    return choice\n",
    "\n",
    "def left_tunnel():\n",
    "    print('You enter the left tunnel and find a treasure chest.')\n",
    "    print('Do you want to open it?')\n",
    "    print('1. Yes')\n",
    "    print('2. No')\n",
    "    choice=int(input('Enter 1 or 2:'))\n",
    "\n",
    "    if choice==1:\n",
    "        print('Congratulation! you found a pile of gold!')\n",
    "    else:\n",
    "        print('You decide not to open the chest and continue exploring')\n",
    "def right_tunnel():\n",
    "    print('You enter the right tunnel and encounter a ferocious dragon!')\n",
    "    print('What will you do?')\n",
    "    time.sleep(2)\n",
    "    print('1.Try to fight dragon?')\n",
    "    print('2.Attempt to snaek around it')\n",
    "    choice=int(input('Enter your choice: '))\n",
    "\n",
    "    if choice==1:\n",
    "        print('You draw your sword and face dragon')\n",
    "        time.sleep(2)\n",
    "        print(\"It's too powerful! The dragon breathes fire, and you're toast.\")\n",
    "        print('Game Over')\n",
    "    else:\n",
    "        print('Successfully sneak the dragon around and find the exit')\n",
    "        print('Congratulations! You escaped the cave')\n",
    "\n",
    "def play_game():\n",
    "    introduction()\n",
    "    while True:\n",
    "        choice=make_choice()\n",
    "\n",
    "        if choice==1:\n",
    "            left_tunnel()\n",
    "            break\n",
    "        elif choice==2:\n",
    "            right_tunnel()\n",
    "            break\n",
    "\n",
    "        else:\n",
    "            print('Invalid choice.Please enter 1 or 2')\n",
    "\n",
    "\n",
    "\n",
    "play_game()"
   ]
  },
  {
   "cell_type": "markdown",
   "id": "1a446057",
   "metadata": {},
   "source": [
    "25. Build a program that solves a linear equation for x, considering different cases."
   ]
  },
  {
   "cell_type": "code",
   "execution_count": 6,
   "id": "35df894d",
   "metadata": {},
   "outputs": [
    {
     "name": "stdout",
     "output_type": "stream",
     "text": [
      "Enter first number: 2\n",
      "Enter second number: -6\n",
      "solution x=3.0\n"
     ]
    }
   ],
   "source": [
    "def linear_equation(a,b):\n",
    "    if a==0:\n",
    "        if b==0:\n",
    "            return 'infinite solutions (the equation is identity)'\n",
    "        else:\n",
    "            return \"No solution (contradiction)\"\n",
    "    else:\n",
    "        x=-b/a\n",
    "        return f'solution x={x}'\n",
    "a=int(input('Enter first number: '))\n",
    "b=int(input('Enter second number: '))\n",
    "res=linear_equation(a,b)\n",
    "print(res)"
   ]
  },
  {
   "cell_type": "markdown",
   "id": "a691a573",
   "metadata": {},
   "source": [
    "26. Write a program that simulates a basic quiz game with multiple-choice questions and scoring."
   ]
  },
  {
   "cell_type": "code",
   "execution_count": 4,
   "id": "6a56361c",
   "metadata": {},
   "outputs": [
    {
     "name": "stdout",
     "output_type": "stream",
     "text": [
      "Welcome to the Quiz:\n",
      "1.What is the capital of India? options:1.New_delhi 2.Kolkata 3.Mumbai: new delhi\n",
      "Answer is Right! You have secured one point\n",
      "2.Who scored most runs in WC2023? options:1.Rachin Ravindra 2.Rohit Sharma 3.Virat Kohli: virat kohli\n",
      "Answer is Right! You have secured one point\n",
      "3.What is the national_animal of India? 1.Lion 2.Tiger 3.Cheetah: tiger\n",
      "Answer is Right! You have secured one point\n",
      "Do you want to repeat it?(yes/no)no\n",
      "Thanks for playing! your score is 3\n"
     ]
    }
   ],
   "source": [
    "print('Welcome to the Quiz:')\n",
    "while True:\n",
    "    score = 0\n",
    "    Q1=input('1.What is the capital of India? options:1.New_delhi 2.Kolkata 3.Mumbai: ').lower()\n",
    "    Q1_ans='new delhi'\n",
    "    if Q1==Q1_ans:\n",
    "        score+=1\n",
    "        print('Answer is Right! You have secured one point')\n",
    "    else:\n",
    "        print('Your answer is wrong! You havenot secured any point')\n",
    "    Q2=input('2.Who scored most runs in WC2023? options:1.Rachin Ravindra 2.Rohit Sharma 3.Virat Kohli: ').lower()\n",
    "    Q2_ans='virat kohli'\n",
    "    if Q2==Q2_ans:\n",
    "        score+=1\n",
    "        print('Answer is Right! You have secured one point')\n",
    "    else:\n",
    "        print('Your answer is wrong! You havenot secured any point')\n",
    "\n",
    "    Q3=input('3.What is the national_animal of India? 1.Lion 2.Tiger 3.Cheetah: ').lower()\n",
    "    Q3_ans='tiger'\n",
    "\n",
    "    if Q3==Q3_ans:\n",
    "        score+=1\n",
    "        print('Answer is Right! You have secured one point')\n",
    "    else:\n",
    "        print('Your answer is wrong! You havenot secured any point')\n",
    "\n",
    "    play_again=input('Do you want to repeat it?(yes/no)')\n",
    "    if play_again!='yes':\n",
    "        print('Thanks for playing! your score is',score)\n",
    "        break"
   ]
  },
  {
   "cell_type": "markdown",
   "id": "be2743ff",
   "metadata": {},
   "source": [
    "27. Develop a program that determines whether a given year is a prime number or not."
   ]
  },
  {
   "cell_type": "code",
   "execution_count": 3,
   "id": "c4c5a006",
   "metadata": {},
   "outputs": [
    {
     "name": "stdout",
     "output_type": "stream",
     "text": [
      "Enter a Year: 2027\n",
      "2027 is a prime number\n"
     ]
    }
   ],
   "source": [
    "year=int(input('Enter a Year: '))\n",
    "flag=False\n",
    "for i in range(2,year):\n",
    "    if year%i==0:\n",
    "        flag=True\n",
    "        break\n",
    "\n",
    "if flag:\n",
    "    print(f'{year} is not a prime number')\n",
    "else:\n",
    "    print(f'{year} is a prime number')"
   ]
  },
  {
   "cell_type": "markdown",
   "id": "28271ca8",
   "metadata": {},
   "source": [
    "28. Create a program that sorts three numbers in ascending order using conditional statements."
   ]
  },
  {
   "cell_type": "code",
   "execution_count": 6,
   "id": "425d3613",
   "metadata": {},
   "outputs": [
    {
     "name": "stdout",
     "output_type": "stream",
     "text": [
      "Enter First number: 12\n",
      "Enter Second number: 23\n",
      "Enter Third number: 9\n",
      "Three numbers in ascending order: 9 12 23\n"
     ]
    }
   ],
   "source": [
    "num1=int(input('Enter First number: '))\n",
    "num2=int(input('Enter Second number: '))\n",
    "num3=int(input('Enter Third number: '))\n",
    "\n",
    "if num1>num2 and num1>num3:\n",
    "    largest=num1\n",
    "elif num2>num1 and num2>num3:\n",
    "    largest=num2\n",
    "else:\n",
    "    largest=num3\n",
    "\n",
    "if num1<num2 and num1<num3:\n",
    "    smallest=num1\n",
    "elif num2<num1 and num2<num3:\n",
    "    smallest=num2\n",
    "else:\n",
    "    smallest=num3\n",
    "\n",
    "if num1!=largest and num1!=smallest:\n",
    "    middle=num1\n",
    "elif num2!=largest and num2!=smallest:\n",
    "    middle=num2\n",
    "else:\n",
    "    middle=num3\n",
    "print('Three numbers in ascending order:',smallest,middle,largest)"
   ]
  },
  {
   "cell_type": "markdown",
   "id": "22e14245",
   "metadata": {},
   "source": [
    "29. Build a program that determines the roots of a quartic equation using numerical methods."
   ]
  },
  {
   "cell_type": "code",
   "execution_count": 1,
   "id": "70f7b740",
   "metadata": {},
   "outputs": [
    {
     "name": "stdout",
     "output_type": "stream",
     "text": [
      "Converged to root 2.0 in 1 iterations\n",
      "Root found 2.0\n"
     ]
    }
   ],
   "source": [
    "def quartic_equation(coefficients,x):\n",
    "    a,b,c,d,e=coefficients\n",
    "    return a*x**4+b*x**3+c*x**2+d*x+e\n",
    "def quartic_derivative(coefficients,x):\n",
    "    a,b,c,d,e=coefficients\n",
    "    return 4*a*x**3+3*b*x**2+2*c*x+d\n",
    "def newton_rapshon_method(coefficients,initial_guess,tolerance=1e-6,max_iteration=100):\n",
    "    x=initial_guess\n",
    "    for i in range(max_iteration):\n",
    "        f_x=quartic_equation(coefficients,x)\n",
    "        f_prime_x=quartic_derivative(coefficients,x)\n",
    "        \n",
    "        if abs(f_prime_x)<tolerance:\n",
    "            print(\"Derivative is close to zero. Newton-Raphson method may not converge.\")\n",
    "            return None\n",
    "        x=x-f_x/f_prime_x\n",
    "        if abs(f_x)<tolerance:\n",
    "            print(f'Converged to root {x} in {i+1} iterations')\n",
    "            return x\n",
    "    \n",
    "    print(\"Newton-Raphson method did not converge within the specified number of iterations.\")\n",
    "    return None\n",
    "\n",
    "coefficients=[1, -10, 35, -50, 24]\n",
    "initial_guess=2.0\n",
    "root=newton_rapshon_method(coefficients,initial_guess)\n",
    "if root is not None:\n",
    "    print(f'Root found {root}')"
   ]
  },
  {
   "cell_type": "markdown",
   "id": "b52f3216",
   "metadata": {},
   "source": [
    "30. Write a program that calculates the BMI (Body Mass Index) and provides health recommendations based\n",
    "on the user's input."
   ]
  },
  {
   "cell_type": "code",
   "execution_count": 4,
   "id": "59aa7b11",
   "metadata": {},
   "outputs": [
    {
     "name": "stdout",
     "output_type": "stream",
     "text": [
      "Enter the weight kilograms: 118\n",
      "Enter the height Centimeters: 186\n",
      "your bmi is 34.10798936293213 and you are obese.\n"
     ]
    }
   ],
   "source": [
    "weight=float(input('Enter the weight kilograms: '))\n",
    "height=float(input('Enter the height Centimeters: '))\n",
    "bmi=(weight/height/height)*10000\n",
    "if bmi<18.5:\n",
    "    print(f'your bmi is {bmi} and you are underweight.')\n",
    "elif 18.5<=bmi<=24.9:\n",
    "    print(f'your bmi is {bmi} and you are healthy.')\n",
    "elif 25<=bmi<=29.9:\n",
    "    print(f'your bmi is {bmi} and you are overweight.')\n",
    "else:\n",
    "    print(f'your bmi is {bmi} and you are obese.')"
   ]
  },
  {
   "cell_type": "markdown",
   "id": "d4b3126c",
   "metadata": {},
   "source": [
    "# Challenge Level:"
   ]
  },
  {
   "cell_type": "markdown",
   "id": "e29125a0",
   "metadata": {},
   "source": [
    "31. Create a program that validates a password based on complexity rules (length, characters, etc.)."
   ]
  },
  {
   "cell_type": "code",
   "execution_count": 11,
   "id": "94db75b9",
   "metadata": {},
   "outputs": [
    {
     "name": "stdout",
     "output_type": "stream",
     "text": [
      "Enter a strong password: Pwskills@123\n",
      "Password is strong.\n"
     ]
    },
    {
     "data": {
      "text/plain": [
       "True"
      ]
     },
     "execution_count": 11,
     "metadata": {},
     "output_type": "execute_result"
    }
   ],
   "source": [
    "import string\n",
    "\n",
    "def is_strong_password(password):\n",
    "    min_length=8\n",
    "    require_uppercase=True\n",
    "    require_lowercase=True\n",
    "    require_digit=True\n",
    "    require_special=True\n",
    "\n",
    "    if len(password)<min_length:\n",
    "        print(f'Password must contain {min_length} characters')\n",
    "        return False\n",
    "\n",
    "    if require_uppercase and not any(char.isupper() for char in password):\n",
    "        print('Password must contain at least one uppercase letter.')\n",
    "        return False\n",
    "\n",
    "    if require_lowercase and not any(char.islower() for char in password):\n",
    "        print('Password must contain at least one lowercase letter.')\n",
    "        return False\n",
    "\n",
    "    if require_digit and not any(char.isdigit() for char in password):\n",
    "        print('Password must contain at least one digit.')\n",
    "        return False\n",
    "\n",
    "    special_character=string.punctuation\n",
    "    if require_special and not any(char in special_character for char in password):\n",
    "        print('Password must contain one special character.')\n",
    "        return False\n",
    "\n",
    "    print('Password is strong.')\n",
    "    return True\n",
    "\n",
    "\n",
    "\n",
    "password=input('Enter a strong password: ')\n",
    "is_strong_password(password)"
   ]
  },
  {
   "cell_type": "markdown",
   "id": "8fb06bb5",
   "metadata": {},
   "source": [
    "32. Develop a program that performs matrix addition and subtraction based on user input."
   ]
  },
  {
   "cell_type": "code",
   "execution_count": 13,
   "id": "06d06b0a",
   "metadata": {},
   "outputs": [
    {
     "name": "stdout",
     "output_type": "stream",
     "text": [
      "Matrix addition and Substraction\n",
      "Enter Matrix A\n",
      "Enter the no of rows:2\n",
      "Enter the no of coloms:2\n",
      "Enter the element at position (1 and 1): 5\n",
      "Enter the element at position (1 and 2): 6\n",
      "Enter the element at position (2 and 1): 7\n",
      "Enter the element at position (2 and 2): 8\n",
      "Enter Matrix B\n",
      "Enter the no of rows:2\n",
      "Enter the no of coloms:2\n",
      "Enter the element at position (1 and 1): 1\n",
      "Enter the element at position (1 and 2): 2\n",
      "Enter the element at position (2 and 1): 3\n",
      "Enter the element at position (2 and 2): 4\n",
      "Print Matrix A\n",
      "[5, 6]\n",
      "[7, 8]\n",
      "Print Matrix B\n",
      "[1, 2]\n",
      "[3, 4]\n",
      "Matrix Addition of matrix A and Matrix B \n",
      "[6, 8]\n",
      "[10, 12]\n",
      "Matrix Substraction of matrix A and Matrix B \n",
      "[4, 4]\n",
      "[4, 4]\n"
     ]
    }
   ],
   "source": [
    "def matrix_addition(matrix1,matrix2):\n",
    "    if len(matrix1)!=len(matrix2) or len(matrix1[0])!=len(matrix2[0]):\n",
    "        print(\"Matrices must have the same dimensions for addition\")\n",
    "        return None\n",
    "\n",
    "    result=[]\n",
    "    for i in range(len(matrix1)):\n",
    "        row_result=[matrix1[i][j]+matrix2[i][j] for j in range(len(matrix1[0]))]\n",
    "        result.append(row_result)\n",
    "\n",
    "    return result\n",
    "\n",
    "\n",
    "def matrix_substraction(matrix1,matrix2):\n",
    "    if len(matrix1)!=len(matrix2) or len(matrix1[0])!=len(matrix2[0]):\n",
    "        print('Matrices must have the same dimensions for substraction')\n",
    "        return None\n",
    "    result=[]\n",
    "    for i in range(len(matrix1)):\n",
    "        row_result=[matrix1[i][j]-matrix2[i][j] for j in range(len(matrix1[0]))]\n",
    "        result.append(row_result)\n",
    "\n",
    "    return result\n",
    "\n",
    "def print_matrix(matrix):\n",
    "    for row in matrix:\n",
    "        print(row)\n",
    "\n",
    "def input_matrix():\n",
    "    rows=int(input('Enter the no of rows:'))\n",
    "    cols=int(input('Enter the no of coloms:'))\n",
    "\n",
    "    matrix=[]\n",
    "\n",
    "    for i in range(rows):\n",
    "        row=[]\n",
    "        for j in range(cols):\n",
    "            value=int(input(f'Enter the element at position ({i+1} and {j+1}): '))\n",
    "            row.append(value)\n",
    "        matrix.append(row)\n",
    "\n",
    "    return matrix\n",
    "\n",
    "\n",
    "print('Matrix addition and Substraction')\n",
    "\n",
    "print('Enter Matrix A')\n",
    "matrix_a=input_matrix()\n",
    "\n",
    "print('Enter Matrix B')\n",
    "matrix_b=input_matrix()\n",
    "\n",
    "print('Print Matrix A')\n",
    "print_matrix(matrix_a)\n",
    "\n",
    "print('Print Matrix B')\n",
    "print_matrix(matrix_b)\n",
    "\n",
    "result_addition=matrix_addition(matrix_a,matrix_b)\n",
    "print('Matrix Addition of matrix A and Matrix B ')\n",
    "print_matrix(result_addition)\n",
    "\n",
    "result_substraction=matrix_substraction(matrix_a,matrix_b)\n",
    "print('Matrix Substraction of matrix A and Matrix B ')\n",
    "print_matrix(result_substraction)"
   ]
  },
  {
   "cell_type": "markdown",
   "id": "685de29e",
   "metadata": {},
   "source": [
    "33. Write a program that calculates the greatest common divisor (GCD) of two numbers using the Euclidean\n",
    "algorithm."
   ]
  },
  {
   "cell_type": "code",
   "execution_count": 10,
   "id": "145437fa",
   "metadata": {},
   "outputs": [
    {
     "name": "stdout",
     "output_type": "stream",
     "text": [
      "Enter the first number:7\n",
      "Enter the second number:23\n",
      "The Gcd of 7 and 23 is 1\n"
     ]
    }
   ],
   "source": [
    "def euclidean_gcd(a,b):\n",
    "    while b:\n",
    "        a,b=b,a%b\n",
    "    return a\n",
    "    \n",
    "try:\n",
    "    num1=int(input('Enter the first number:'))\n",
    "    num2=int(input('Enter the second number:'))\n",
    "    gcd=euclidean_gcd(num1,num2)\n",
    "    print(f'The Gcd of {num1} and {num2} is {gcd}')\n",
    "    \n",
    "    \n",
    "except ValueError:\n",
    "    print('Invalid Input! Please enter valid integers')"
   ]
  },
  {
   "cell_type": "markdown",
   "id": "65e6f93b",
   "metadata": {},
   "source": [
    "34. Build a program that performs matrix multiplication using nested loops and conditional statements."
   ]
  },
  {
   "cell_type": "code",
   "execution_count": 12,
   "id": "44466f60",
   "metadata": {},
   "outputs": [
    {
     "name": "stdout",
     "output_type": "stream",
     "text": [
      "Matrix A:\n",
      "[1, 2, 3]\n",
      "[4, 5, 6]\n",
      "Matrix B:\n",
      "[7, 8]\n",
      "[9, 10]\n",
      "[11, 12]\n",
      "Result Matrix:\n",
      "[58, 64]\n",
      "[139, 154]\n"
     ]
    }
   ],
   "source": [
    "def matrix_multiplication(matrix1,matrix2):\n",
    "    if len(matrix1[0])!=len(matrix2):\n",
    "        print('Matrix multiplication cant be occur. As no of rows of matrix1 must be equal to the no of column in the matrix2.')\n",
    "        return None\n",
    "\n",
    "    result=[]\n",
    "\n",
    "    for i in range(len(matrix1)):\n",
    "        row_result=[]\n",
    "\n",
    "        for j in range(len(matrix2[0])):\n",
    "            dot_prod=0\n",
    "            for k in range(len(matrix2)):\n",
    "                dot_prod+=matrix1[i][k]*matrix2[k][j]\n",
    "\n",
    "            row_result.append(dot_prod)\n",
    "\n",
    "\n",
    "        result.append(row_result)\n",
    "\n",
    "    return result\n",
    "\n",
    "def print_matrix(matrix):\n",
    "    for row in matrix:\n",
    "        print(row)\n",
    "\n",
    "\n",
    "\n",
    "matrix1=[[1,2,3],\n",
    "         [4,5,6]\n",
    "         ]\n",
    "\n",
    "matrix2=[[7,8],\n",
    "         [9,10],\n",
    "         [11,12]]\n",
    "result_matrix=matrix_multiplication(matrix1,matrix2)\n",
    "\n",
    "print('Matrix A:')\n",
    "print_matrix(matrix1)\n",
    "\n",
    "print('Matrix B:')\n",
    "print_matrix(matrix2)\n",
    "\n",
    "print('Result Matrix:')\n",
    "print_matrix(result_matrix)"
   ]
  },
  {
   "cell_type": "markdown",
   "id": "1fe9b212",
   "metadata": {},
   "source": [
    "35. Create a program that simulates a basic text-based tic-tac-toe game against the computer."
   ]
  },
  {
   "cell_type": "code",
   "execution_count": 14,
   "id": "41e3e756",
   "metadata": {},
   "outputs": [
    {
     "name": "stdout",
     "output_type": "stream",
     "text": [
      "  |   |  \n",
      "---------\n",
      "  |   |  \n",
      "---------\n",
      "  |   |  \n",
      "---------\n",
      "Enter the row (0, 1, or 2): 0\n",
      "Enter the column (0, 1, or 2): 0\n",
      "Computer's move:\n",
      "X | O |  \n",
      "---------\n",
      "  |   |  \n",
      "---------\n",
      "  |   |  \n",
      "---------\n",
      "Enter the row (0, 1, or 2): 1\n",
      "Enter the column (0, 1, or 2): 1\n",
      "Computer's move:\n",
      "X | O | O\n",
      "---------\n",
      "  | X |  \n",
      "---------\n",
      "  |   |  \n",
      "---------\n",
      "Enter the row (0, 1, or 2): 2\n",
      "Enter the column (0, 1, or 2): 2\n",
      "X | O | O\n",
      "---------\n",
      "  | X |  \n",
      "---------\n",
      "  |   | X\n",
      "---------\n",
      "Congratulations! You win!\n"
     ]
    }
   ],
   "source": [
    "import random\n",
    "\n",
    "def print_board(board):\n",
    "    for row in board:\n",
    "        print(\" | \".join(row))\n",
    "        print(\"-\" * 9)\n",
    "\n",
    "def is_winner(board, player):\n",
    "    # Check rows, columns, and diagonals for a win\n",
    "    for row in board:\n",
    "        if all(cell == player for cell in row):\n",
    "            return True\n",
    "\n",
    "    for col in range(3):\n",
    "        if all(board[row][col] == player for row in range(3)):\n",
    "            return True\n",
    "\n",
    "    if all(board[i][i] == player for i in range(3)) or all(board[i][2 - i] == player for i in range(3)):\n",
    "        return True\n",
    "\n",
    "    return False\n",
    "\n",
    "def is_board_full(board):\n",
    "    # Check if the board is full\n",
    "    return all(board[i][j] != ' ' for i in range(3) for j in range(3))\n",
    "\n",
    "def get_empty_cells(board):\n",
    "    # Return a list of empty cells on the board\n",
    "    return [(i, j) for i in range(3) for j in range(3) if board[i][j] == ' ']\n",
    "\n",
    "def player_move(board):\n",
    "    # Get the player's move\n",
    "    while True:\n",
    "        try:\n",
    "            row = int(input(\"Enter the row (0, 1, or 2): \"))\n",
    "            col = int(input(\"Enter the column (0, 1, or 2): \"))\n",
    "            if board[row][col] == ' ':\n",
    "                return row, col\n",
    "            else:\n",
    "                print(\"Cell already taken. Try again.\")\n",
    "        except (ValueError, IndexError):\n",
    "            print(\"Invalid input. Try again.\")\n",
    "\n",
    "def computer_move(board):\n",
    "    empty_cells = get_empty_cells(board)\n",
    "    return random.choice(empty_cells)\n",
    "\n",
    "board = [[' ' for _ in range(3)] for _ in range(3)]\n",
    "\n",
    "while True:\n",
    "    print_board(board)\n",
    "\n",
    "    # Player's move\n",
    "    player_row, player_col = player_move(board)\n",
    "    board[player_row][player_col] = 'X'\n",
    "\n",
    "    # Check if the player wins\n",
    "    if is_winner(board, 'X'):\n",
    "        print_board(board)\n",
    "        print(\"Congratulations! You win!\")\n",
    "        break\n",
    "\n",
    "    # Check if it's a tie\n",
    "    if is_board_full(board):\n",
    "        print_board(board)\n",
    "        print(\"It's a tie!\")\n",
    "        break\n",
    "\n",
    "    # Computer's move\n",
    "    print(\"Computer's move:\")\n",
    "    computer_row, computer_col = computer_move(board)\n",
    "    board[computer_row][computer_col] = 'O'\n",
    "\n",
    "    # Check if the computer wins\n",
    "    if is_winner(board, 'O'):\n",
    "        print_board(board)\n",
    "        print(\"Computer wins! Better luck next time.\")\n",
    "        break"
   ]
  },
  {
   "cell_type": "markdown",
   "id": "ec500715",
   "metadata": {},
   "source": [
    "36. Write a program that generates Fibonacci numbers up to a specified term using iterative methods."
   ]
  },
  {
   "cell_type": "code",
   "execution_count": 9,
   "id": "82a54344",
   "metadata": {},
   "outputs": [
    {
     "name": "stdout",
     "output_type": "stream",
     "text": [
      "Enter the sequence upto which you want the fibonacci numbers10\n",
      "The Fibonacci numbers upto 10 is:\n",
      "0\n",
      "1\n",
      "1\n",
      "2\n",
      "3\n",
      "5\n",
      "8\n",
      "13\n",
      "21\n",
      "34\n"
     ]
    }
   ],
   "source": [
    "num1=0\n",
    "num2=1\n",
    "seq=int(input('Enter the sequence upto which you want the fibonacci numbers'))\n",
    "print(f'The Fibonacci numbers upto {seq} is:')\n",
    "for i in range(seq):\n",
    "    print(num1)\n",
    "    num3=num1+num2\n",
    "    num1=num2\n",
    "    num2=num3"
   ]
  },
  {
   "cell_type": "markdown",
   "id": "602c8ab1",
   "metadata": {},
   "source": [
    "37. Develop a program that calculates the nth term of the Fibonacci sequence using memoization."
   ]
  },
  {
   "cell_type": "code",
   "execution_count": 2,
   "id": "22a5c025",
   "metadata": {},
   "outputs": [
    {
     "name": "stdout",
     "output_type": "stream",
     "text": [
      "Enter the value of n: 4\n",
      "The 4th term of fibonacci sequence is: 5\n"
     ]
    }
   ],
   "source": [
    "fibonacci_cache={}\n",
    "\n",
    "def fibonacci(n):\n",
    "    if n in fibonacci_cache:\n",
    "        return fibonacci_cache[n]\n",
    "    if n==0 or n==1:\n",
    "        return 1\n",
    "    \n",
    "    fib_value=fibonacci(n-1)+fibonacci(n-2)\n",
    "    \n",
    "    fibonacci_cache[n]=fib_value\n",
    "    \n",
    "    return fib_value\n",
    "\n",
    "\n",
    "n=int(input('Enter the value of n: '))\n",
    "res=fibonacci(n)\n",
    "print(f'The {n}th term of fibonacci sequence is: {res}')"
   ]
  },
  {
   "cell_type": "markdown",
   "id": "17f25c4e",
   "metadata": {},
   "source": [
    "38. Create a program that generates a calendar for a given month and year using conditional statements."
   ]
  },
  {
   "cell_type": "code",
   "execution_count": 10,
   "id": "1a5f8597",
   "metadata": {},
   "outputs": [
    {
     "name": "stdout",
     "output_type": "stream",
     "text": [
      "Enter the year: 2023\n",
      "Enter the month (1-12): 11\n",
      "Calendar for November 2023\n",
      " Mo  Tu  We  Th  Fr  Sa  Su\n",
      "         1   2   3   4   5  \n",
      " 6   7   8   9  10  11  12  \n",
      "13  14  15  16  17  18  19  \n",
      "20  21  22  23  24  25  26  \n",
      "27  28  29  30              \n"
     ]
    }
   ],
   "source": [
    "import calendar\n",
    "def generate_calender(year,month):\n",
    "    cal=calendar.monthcalendar(year,month)\n",
    "\n",
    "    print(f'Calendar for {calendar.month_name[month]} {year}')\n",
    "    print(f' Mo  Tu  We  Th  Fr  Sa  Su')\n",
    "\n",
    "    for week in cal:\n",
    "        for day in week:\n",
    "            if day==0:\n",
    "                print('   ',end=' ')\n",
    "            else:\n",
    "                print(f'{day:2d} ',end=' ')\n",
    "        print()\n",
    "\n",
    "year=int(input('Enter the year: '))\n",
    "month=int(input('Enter the month (1-12): '))\n",
    "\n",
    "if 1<=month<=12:\n",
    "    generate_calender(year,month)\n",
    "else:\n",
    "    print('Invalid month. Please enter a month between 1 to 12')"
   ]
  },
  {
   "cell_type": "markdown",
   "id": "2dcb6017",
   "metadata": {},
   "source": [
    "39. Build a program that simulates a basic text-based blackjack game against the computer."
   ]
  },
  {
   "cell_type": "code",
   "execution_count": 11,
   "id": "20d0e6d7",
   "metadata": {},
   "outputs": [
    {
     "name": "stdout",
     "output_type": "stream",
     "text": [
      "Your cards: [3, 5],current score: 8\n",
      "Computers first card: 8\n",
      "Press Y to get another card, n to passy\n",
      "Your cards: [3, 5, 6],current score: 14\n",
      "Computers first card: 8\n",
      "Press Y to get another card, n to passn\n",
      "Your final hand: [3, 5, 6] your score: 14\n",
      "Computers final hand: [8, 10] and computer score: 18\n",
      "You loose\n"
     ]
    }
   ],
   "source": [
    "import random\n",
    "\n",
    "def deal_card():\n",
    "    cards=[2,11,3,4,5,10,6,7,8,9]\n",
    "    return random.choice(cards)\n",
    "\n",
    "def calculate_score(cards):\n",
    "    if sum(cards)==21 and len(cards)==2:\n",
    "        return 0\n",
    "    if 11 in cards and sum(cards)>21:\n",
    "        cards.remove(11)\n",
    "        cards.append(1)\n",
    "    return sum(cards)\n",
    "\n",
    "def compare(user_score,computer_score):\n",
    "    if user_score==computer_score:\n",
    "        return \"It's a draw\"\n",
    "    elif computer_score==0:\n",
    "        return 'You loose! Computer has a blackjack'\n",
    "    elif user_score==0:\n",
    "        return 'You Win with a blackjack'\n",
    "    elif user_score>21:\n",
    "        return 'You went over, You loose'\n",
    "    elif computer_score>21:\n",
    "        return 'Computer went over, You won'\n",
    "    elif user_score>computer_score:\n",
    "        return 'You win'\n",
    "    else:\n",
    "        return 'You loose'\n",
    "\n",
    "def play_game():\n",
    "    user_cards=[]\n",
    "    computer_cards=[]\n",
    "    game_over=False\n",
    "\n",
    "    for i in range(2):\n",
    "        user_cards.append(deal_card())\n",
    "        computer_cards.append(deal_card())\n",
    "\n",
    "    while not game_over:\n",
    "        user_score=calculate_score(user_cards)\n",
    "        computer_score=calculate_score(computer_cards)\n",
    "\n",
    "        print(f'Your cards: {user_cards},current score: {user_score}')\n",
    "        print(f'Computers first card: {computer_cards[0]}')\n",
    "\n",
    "        if user_score==0 or computer_score==0 or user_score>21:\n",
    "            game_over=True\n",
    "        else:\n",
    "            should_continue=input('Press Y to get another card, n to pass')\n",
    "            if should_continue=='y':\n",
    "                user_cards.append(deal_card())\n",
    "            else:\n",
    "                game_over=True\n",
    "\n",
    "    while computer_score!=0 and computer_score<17:\n",
    "        computer_cards.append(deal_card())\n",
    "        computer_score=calculate_score(computer_cards)\n",
    "\n",
    "    print(f'Your final hand: {user_cards} your score: {user_score}')\n",
    "    print(f'Computers final hand: {computer_cards} and computer score: {computer_score}')\n",
    "    print(compare(user_score,computer_score))\n",
    "\n",
    "if __name__=='__main__':\n",
    "    play_game()"
   ]
  },
  {
   "cell_type": "markdown",
   "id": "00ec69f9",
   "metadata": {},
   "source": [
    "40. Write a program that generates the prime factors of a given number using trial division."
   ]
  },
  {
   "cell_type": "code",
   "execution_count": 13,
   "id": "e25dfb28",
   "metadata": {},
   "outputs": [
    {
     "name": "stdout",
     "output_type": "stream",
     "text": [
      "Enter a number:258\n",
      "The prime factors of 258 is [2, 3, 43]\n"
     ]
    }
   ],
   "source": [
    "def prime_factors(number):\n",
    "    prime_factors=[]\n",
    "    divisor=2\n",
    "\n",
    "    while divisor<=number:\n",
    "        if number%divisor==0:\n",
    "            prime_factors.append(divisor)\n",
    "            number //=divisor\n",
    "        else:\n",
    "            divisor+=1\n",
    "\n",
    "    return prime_factors\n",
    "\n",
    "\n",
    "num=int(input('Enter a number:'))\n",
    "\n",
    "res=prime_factors(num)\n",
    "\n",
    "print(f'The prime factors of {num} is {res}')"
   ]
  },
  {
   "cell_type": "code",
   "execution_count": null,
   "id": "521ceacf",
   "metadata": {},
   "outputs": [],
   "source": []
  }
 ],
 "metadata": {
  "kernelspec": {
   "display_name": "Python 3 (ipykernel)",
   "language": "python",
   "name": "python3"
  },
  "language_info": {
   "codemirror_mode": {
    "name": "ipython",
    "version": 3
   },
   "file_extension": ".py",
   "mimetype": "text/x-python",
   "name": "python",
   "nbconvert_exporter": "python",
   "pygments_lexer": "ipython3",
   "version": "3.9.12"
  }
 },
 "nbformat": 4,
 "nbformat_minor": 5
}
